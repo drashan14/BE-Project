{
 "cells": [
  {
   "cell_type": "code",
   "execution_count": 1,
   "id": "b4e8ebe6-20ce-482d-87ff-99a2103f1a38",
   "metadata": {},
   "outputs": [],
   "source": [
    "#cursve handwriting recognise\n"
   ]
  },
  {
   "cell_type": "code",
   "execution_count": null,
   "id": "1695ec60-91a1-4d33-b21c-7475cd0c2bca",
   "metadata": {},
   "outputs": [],
   "source": []
  }
 ],
 "metadata": {
  "kernelspec": {
   "display_name": "Python 3 (ipykernel)",
   "language": "python",
   "name": "python3"
  },
  "language_info": {
   "codemirror_mode": {
    "name": "ipython",
    "version": 3
   },
   "file_extension": ".py",
   "mimetype": "text/x-python",
   "name": "python",
   "nbconvert_exporter": "python",
   "pygments_lexer": "ipython3",
   "version": "3.10.4"
  }
 },
 "nbformat": 4,
 "nbformat_minor": 5
}
