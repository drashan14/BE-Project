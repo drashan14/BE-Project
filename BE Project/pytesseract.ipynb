{
 "cells": [
  {
   "cell_type": "code",
   "execution_count": 1,
   "id": "094e18ab-a02c-4203-9872-7daac61727e8",
   "metadata": {},
   "outputs": [],
   "source": [
    "#Extract text from Image Using pytesseract."
   ]
  },
  {
   "cell_type": "code",
   "execution_count": 7,
   "id": "2a7ed031-b22d-4f7e-b726-f7b4668151eb",
   "metadata": {},
   "outputs": [],
   "source": [
    "import pytesseract as pt \n",
    "from PIL import Image"
   ]
  },
  {
   "cell_type": "code",
   "execution_count": 34,
   "id": "db829dcc-2f27-49a2-a5df-cbea522f0f1d",
   "metadata": {},
   "outputs": [],
   "source": [
    "img_file = \"images/image_with_border.jpg\"\n",
    "no_noise =  \"images/gray_image.jpg\"\n",
    "original_img = \"images/original_img.jpg\"\n",
    "scanned_img = \"images/scanned.jpg\"\n",
    "original_img = \"images/original.jpg\""
   ]
  },
  {
   "cell_type": "code",
   "execution_count": 35,
   "id": "d2c26016-a5b0-495d-9ab7-346fcfda88a6",
   "metadata": {},
   "outputs": [],
   "source": [
    "img = Image.open(original_img)\n"
   ]
  },
  {
   "cell_type": "code",
   "execution_count": 36,
   "id": "eb4514be-f6a7-44b6-a27a-063c2962bc53",
   "metadata": {},
   "outputs": [],
   "source": [
    "ocr_result = pt.image_to_string(img)"
   ]
  },
  {
   "cell_type": "code",
   "execution_count": 37,
   "id": "824ca370-e906-4948-9534-e4b322e88301",
   "metadata": {},
   "outputs": [
    {
     "name": "stdout",
     "output_type": "stream",
     "text": [
      "‘At Meeting Tomorrow we tae our company core values serious. Wehire people who embody ese\n",
      "Ideas ane » prominent eves Wal este nest the front door of the ofice reminds urwhy we're here\n",
      "fr ourselves each other and out eustomers every ay\n",
      "\n",
      "“he Wallis an ever-evolving collaborate effort. There's hays paper pens and thumotacks avaiable\n",
      "ne of ourtves core values\n",
      "\n",
      "Commitment Kindness, Mumity\n",
      "What these wordemean? Here are the itera defintone acordingto Merriam Webster’ kona\n",
      "Commitment: the attude of someone who works veryhard odo or support something\n",
      "\n",
      "Kindness: hosing oeshowing« gente nelure and» desire tahelp ethers; wanting wd king oo good\n",
      "things and bring happiness to thers\n",
      "\n",
      "miley: the qunity orate of nothing you ae beter than otter peoaie\n",
      "Now, mare inporanty, what dothese word mean to vs? Hereare some examples from our Wall\n",
      "Commitment:\n",
      "\n",
      "‘+ Beinganoutof oficecontct for someane -Youhave to manage Your own business @ someone\n",
      "1+ Eting lf the ridge purge zrbage to minimise vaste whet ag\n",
      "\n",
      "+ oursterhovrstenm lecommites to making fire ourclentshove everythin they nees=no\n",
      "1 Gating me upto sozedas arainee and having never-ending postty\n",
      "\n",
      "The warehovre team yt ine ALUTHE TM t =hp out orders\n",
      "\n",
      "1+ Evenwithaneubora baby keepinghin up al right staying lat to put et fires and hepout the\n",
      "\n",
      "inde:\n",
      "\n",
      "+ ceting all retuned eaumentchecke in butneverseekingafrmaton orrecaznion fort\n",
      "stopping by each person's desk ust 0 soy how oe you?(and meaning i)\n",
      "1 Coming to werk ar finding 9 have 2 wonderful day” catdon my desk\n",
      "\n",
      "Homie\n",
      "\f",
      "\n"
     ]
    }
   ],
   "source": [
    "print(ocr_result)"
   ]
  },
  {
   "cell_type": "code",
   "execution_count": null,
   "id": "2a757e3d-d2ae-4431-8153-7cbdf71563b4",
   "metadata": {},
   "outputs": [],
   "source": []
  },
  {
   "cell_type": "code",
   "execution_count": null,
   "id": "07afaf24-e782-4973-9df1-b83bf5fb9ab6",
   "metadata": {},
   "outputs": [],
   "source": []
  }
 ],
 "metadata": {
  "kernelspec": {
   "display_name": "Python 3 (ipykernel)",
   "language": "python",
   "name": "python3"
  },
  "language_info": {
   "codemirror_mode": {
    "name": "ipython",
    "version": 3
   },
   "file_extension": ".py",
   "mimetype": "text/x-python",
   "name": "python",
   "nbconvert_exporter": "python",
   "pygments_lexer": "ipython3",
   "version": "3.10.4"
  }
 },
 "nbformat": 4,
 "nbformat_minor": 5
}
