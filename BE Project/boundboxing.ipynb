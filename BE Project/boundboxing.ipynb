{
 "cells": [
  {
   "cell_type": "code",
   "execution_count": 1,
   "id": "1097c7a2-2bbb-4b91-8142-ba46542f73d0",
   "metadata": {},
   "outputs": [],
   "source": [
    "#Bound Boxing The Image"
   ]
  },
  {
   "cell_type": "code",
   "execution_count": 2,
   "id": "351888c6-9422-403b-a82f-1ff72725dcc3",
   "metadata": {},
   "outputs": [],
   "source": [
    "import pytesseract\n",
    "import cv2"
   ]
  },
  {
   "cell_type": "code",
   "execution_count": 3,
   "id": "9fd611e8-1d57-41a8-8986-cbd5a2c691fd",
   "metadata": {},
   "outputs": [],
   "source": [
    "image_files =  cv2.imread('images/rotatedfinal.jpg')"
   ]
  },
  {
   "cell_type": "code",
   "execution_count": 4,
   "id": "c4a310db-9380-40f8-8c61-259941f42d0d",
   "metadata": {},
   "outputs": [],
   "source": [
    "gray = cv2.cvtColor(image_files,cv2.COLOR_BGR2GRAY)"
   ]
  },
  {
   "cell_type": "code",
   "execution_count": 5,
   "id": "ade60cb4-85c9-4814-bbb0-0646d44cea12",
   "metadata": {},
   "outputs": [
    {
     "data": {
      "text/plain": [
       "True"
      ]
     },
     "execution_count": 5,
     "metadata": {},
     "output_type": "execute_result"
    }
   ],
   "source": [
    "cv2.imwrite('images/original_gray.jpg',gray)"
   ]
  },
  {
   "cell_type": "code",
   "execution_count": 6,
   "id": "04fe1aa8-fd21-46b2-8073-0c410c6bc98a",
   "metadata": {},
   "outputs": [],
   "source": [
    "blur = cv2.GaussianBlur(gray,(7,7),0)"
   ]
  },
  {
   "cell_type": "code",
   "execution_count": 7,
   "id": "f3800783-18c3-4e4b-9b62-e893a6da3abe",
   "metadata": {},
   "outputs": [
    {
     "data": {
      "text/plain": [
       "True"
      ]
     },
     "execution_count": 7,
     "metadata": {},
     "output_type": "execute_result"
    }
   ],
   "source": [
    "cv2.imwrite('images/original_blur.jpg',blur)"
   ]
  },
  {
   "cell_type": "code",
   "execution_count": 8,
   "id": "83f04955-5550-4097-8617-b9c9821ffcfa",
   "metadata": {},
   "outputs": [
    {
     "data": {
      "text/plain": [
       "'images/original_blur.jpg'"
      ]
     },
     "metadata": {},
     "output_type": "display_data"
    }
   ],
   "source": [
    "display('images/original_blur.jpg')"
   ]
  },
  {
   "cell_type": "code",
   "execution_count": 9,
   "id": "d200c52d-7336-43b9-8ae2-d0169015a2bf",
   "metadata": {},
   "outputs": [],
   "source": [
    "#Threshhold image.\n",
    "thresh = cv2.threshold(blur,0,255,cv2.THRESH_BINARY_INV+cv2.THRESH_OTSU)[1]"
   ]
  },
  {
   "cell_type": "code",
   "execution_count": 10,
   "id": "aa2066a0-6eaa-443a-a810-c325e422d48d",
   "metadata": {},
   "outputs": [
    {
     "data": {
      "text/plain": [
       "True"
      ]
     },
     "execution_count": 10,
     "metadata": {},
     "output_type": "execute_result"
    }
   ],
   "source": [
    "cv2.imwrite('images/original_thresh.jpg',thresh)"
   ]
  },
  {
   "cell_type": "code",
   "execution_count": 11,
   "id": "3bd61dd3-5f3e-4317-9938-4bfb63d7ce24",
   "metadata": {},
   "outputs": [],
   "source": [
    "kernal = cv2.getStructuringElement(cv2.MORPH_RECT,(3,13))"
   ]
  },
  {
   "cell_type": "code",
   "execution_count": 12,
   "id": "541bd12b-100c-4a37-9e82-45409642a940",
   "metadata": {},
   "outputs": [
    {
     "data": {
      "text/plain": [
       "True"
      ]
     },
     "execution_count": 12,
     "metadata": {},
     "output_type": "execute_result"
    }
   ],
   "source": [
    "cv2.imwrite('images/original_kernel.jpg',kernal)"
   ]
  },
  {
   "cell_type": "code",
   "execution_count": 13,
   "id": "d482a7a8-504a-4e65-9a75-161658c6e7af",
   "metadata": {},
   "outputs": [],
   "source": [
    "#Image is not visible kernal then use dilate metgod. \n",
    "dilate = cv2.dilate(thresh,kernal,iterations=1)"
   ]
  },
  {
   "cell_type": "code",
   "execution_count": 14,
   "id": "53addcd7-7343-4a17-9b43-e7ec888df44c",
   "metadata": {},
   "outputs": [
    {
     "data": {
      "text/plain": [
       "True"
      ]
     },
     "execution_count": 14,
     "metadata": {},
     "output_type": "execute_result"
    }
   ],
   "source": [
    "cv2.imwrite('images/original_dilated.jpg',dilate)"
   ]
  },
  {
   "cell_type": "code",
   "execution_count": 15,
   "id": "73aa3da6-9847-4ba3-90bb-c55fe4256f50",
   "metadata": {},
   "outputs": [],
   "source": [
    "#contours\n",
    "cnts = cv2.findContours(dilate,cv2.RETR_EXTERNAL,cv2.CHAIN_APPROX_SIMPLE)"
   ]
  },
  {
   "cell_type": "code",
   "execution_count": 16,
   "id": "f1d33ef9-ab23-4681-9829-7fd4794c6d7b",
   "metadata": {},
   "outputs": [],
   "source": [
    "cnts = cnts[0] if len(cnts) == 2 else cnts[1]\n"
   ]
  },
  {
   "cell_type": "code",
   "execution_count": 17,
   "id": "fc0b56b1-394a-4798-94d8-8941bada8b23",
   "metadata": {},
   "outputs": [],
   "source": [
    " cnts = sorted(cnts,key=lambda x: cv2.boundingRect(x)[0])"
   ]
  },
  {
   "cell_type": "code",
   "execution_count": 18,
   "id": "d0f42540-7c4f-4de9-9925-597ecb24652c",
   "metadata": {},
   "outputs": [],
   "source": [
    " for c in cnts:\n",
    "        \n",
    "        x,y,w,h = cv2.boundingRect(c)\n",
    "        if h> 30 and w>20:\n",
    "            #  roi = image[y:y+h,x:x+h]  #devide the column into particular column.\n",
    "             cv2.rectangle(image_files,(x,y),(x+w,y+h),(36,255,12),2)\n",
    "      "
   ]
  },
  {
   "cell_type": "code",
   "execution_count": 19,
   "id": "c7eed5df-66ce-49f8-9be3-bd8c01a4e548",
   "metadata": {},
   "outputs": [
    {
     "data": {
      "text/plain": [
       "True"
      ]
     },
     "execution_count": 19,
     "metadata": {},
     "output_type": "execute_result"
    }
   ],
   "source": [
    "cv2.imwrite('images/original_img_bound1.jpg',image_files)"
   ]
  },
  {
   "cell_type": "code",
   "execution_count": 20,
   "id": "370217db-9413-463c-ab78-7f46f86dbd24",
   "metadata": {},
   "outputs": [],
   "source": [
    "  ocr_result= pytesseract.image_to_string('images/original_img_bound1.jpg')"
   ]
  },
  {
   "cell_type": "code",
   "execution_count": 21,
   "id": "e13db396-1fc6-4c82-b0ab-4d06f14bb8c8",
   "metadata": {},
   "outputs": [
    {
     "name": "stdout",
     "output_type": "stream",
     "text": [
      "[aqher| rornine in the year 1944, I took my six-year-old\n",
      "\n",
      "son by the hand and bezan walking from my home town toward the\n",
      "\n",
      " \n",
      "\n",
      "valleys and forests of the Carpathi\n",
      "\n",
      " \n",
      "\n",
      "mountains. Por nearly\n",
      "\n",
      "eight months we lived in barns, attics and makeshift cabins. wit=\n",
      "\n",
      "  \n",
      " \n",
      "\n",
      "help of an unusually courageous man, we managed to\n",
      "S greatest fit pf madness. Those who walked in\n",
      "\n",
      "the opposite direction on Easter day were less fortunate.\n",
      "They were taken in trainloads to places whose once obscure nanes\n",
      "are now, and forever will be, synonymous with terror, evil and\n",
      "death. What follows is our story of survival told to the best\n",
      "of my ability, in plain, simple language.\n",
      "\n",
      "In March of 194% the SS troops took over the internal affairs\n",
      "of Hungary and proceeded to organize the deportation of the Jews.\n",
      "fo the Nazis this was a routine assignment; within hours all local\n",
      "officials were informed of operational plans. The high command\n",
      "issued a directive designed to placate Jewish fears and induce\n",
      "cooperation. It was announced that the Jews would be shipped to\n",
      "Poland as an emergency labor force and that they were only being\n",
      "drafted for temporary work. There were many who believed this\n",
      "version. Others, less credulous, resigred themselves and hoped for\n",
      "the best. Still others began to make plans for escape. By Aprii\n",
      "13 the Hungarian Jews were being rounded up from all over the\n",
      "\n",
      "_—country in what was once a huge brick factory. The rest is well\n",
      "=Sinown.\n",
      "\n",
      "I wae working in Unavar and usually came home on weekends.\n",
      "\n",
      "t that time it was no longer possible for g jgw § |\n",
      "\f",
      "\n"
     ]
    }
   ],
   "source": [
    "print(ocr_result)"
   ]
  },
  {
   "cell_type": "code",
   "execution_count": null,
   "id": "38eac455-1743-45a7-9c4b-be5843c94d67",
   "metadata": {},
   "outputs": [],
   "source": []
  },
  {
   "cell_type": "code",
   "execution_count": null,
   "id": "bb3a54e0-b871-4c14-817d-a8d581f7eb29",
   "metadata": {},
   "outputs": [],
   "source": []
  },
  {
   "cell_type": "code",
   "execution_count": null,
   "id": "28ec6377-1c16-4530-8c74-39183c88ab91",
   "metadata": {},
   "outputs": [],
   "source": []
  }
 ],
 "metadata": {
  "kernelspec": {
   "display_name": "Python 3 (ipykernel)",
   "language": "python",
   "name": "python3"
  },
  "language_info": {
   "codemirror_mode": {
    "name": "ipython",
    "version": 3
   },
   "file_extension": ".py",
   "mimetype": "text/x-python",
   "name": "python",
   "nbconvert_exporter": "python",
   "pygments_lexer": "ipython3",
   "version": "3.10.4"
  }
 },
 "nbformat": 4,
 "nbformat_minor": 5
}
